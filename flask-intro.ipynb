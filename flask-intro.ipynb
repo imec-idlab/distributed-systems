{
 "cells": [
  {
   "cell_type": "markdown",
   "metadata": {},
   "source": [
    "# A simple \"Hello World\" tutorial for Distributed Systems' REST APIs \n",
    "\n",
    "## What we will do\n",
    "* Run a Hello world example on http://localhost:5000\n",
    "* Create a list of todos\n",
    "* Allow to tinker with those todos\n",
    "\n",
    "\n",
    "## Step 0: Prerequisites\n",
    "\n",
    "First of all, we need to import the require libraries. We will be using Flask and Flask RESTFUL.\n",
    "* Flask is a microframework for Python based on Werkzeug and Jinja 2. It allows creating a web application in a few lines of code. A microframework means its lean and mean (see next week)\n",
    "* Flask RESTFUL enables you to turn your Flask web applications into REST APIs\n",
    "\n",
    "\n",
    "So lets start importing Flask (we call it Flask) and the flask_restful api objects"
   ]
  },
  {
   "cell_type": "code",
   "execution_count": null,
   "metadata": {
    "collapsed": true
   },
   "outputs": [],
   "source": [
    "from flask import Flask\n",
    "from flask_restful import reqparse, abort, Api, Resource"
   ]
  },
  {
   "cell_type": "markdown",
   "metadata": {},
   "source": [
    "We will make an app (to create the web application) and an api to refer to the REST API. In the future we will mainly add resources to this api "
   ]
  },
  {
   "cell_type": "code",
   "execution_count": null,
   "metadata": {
    "collapsed": true
   },
   "outputs": [],
   "source": [
    "app = Flask(__name__)\n",
    "api = Api(app)"
   ]
  },
  {
   "cell_type": "markdown",
   "metadata": {},
   "source": [
    "### Only relevant for this demo (simply ignore)\n",
    "\n",
    "Since we already started the server, we need to shut it down again if we want to add endpoints. Specifically for this demo this is important, but you should not care about this yourself in your code. \n"
   ]
  },
  {
   "cell_type": "code",
   "execution_count": null,
   "metadata": {
    "collapsed": true
   },
   "outputs": [],
   "source": [
    "from flask import request\n",
    "def shutdown_server():\n",
    "    func = request.environ.get('werkzeug.server.shutdown')\n",
    "    if func is None:\n",
    "        raise RuntimeError('Not running with the Werkzeug Server')\n",
    "    func()\n",
    "\n",
    "@app.route('/shutdown', methods=['GET'])\n",
    "def shutdown():\n",
    "    shutdown_server()\n",
    "    return 'Server shutting down...'"
   ]
  },
  {
   "cell_type": "markdown",
   "metadata": {},
   "source": [
    "## Step 1: Hello world\n",
    "\n",
    "Every new beginning starts with a hello world.\n",
    "\n",
    "For this we will make a 'HelloWorld' class. The method get will return a JSON object with key/value hello and world. "
   ]
  },
  {
   "cell_type": "code",
   "execution_count": null,
   "metadata": {
    "collapsed": true
   },
   "outputs": [],
   "source": [
    "class HelloWorld(Resource):\n",
    "    def get(self):\n",
    "        return {'hello': 'world'}"
   ]
  },
  {
   "cell_type": "markdown",
   "metadata": {},
   "source": [
    "The only thing we need to do now is to add this class HelloWorld to our API as a resource. The second argument defines the URL at where this will run. In this case, this is the root."
   ]
  },
  {
   "cell_type": "code",
   "execution_count": null,
   "metadata": {
    "collapsed": true
   },
   "outputs": [],
   "source": [
    "api.add_resource(HelloWorld, '/')"
   ]
  },
  {
   "cell_type": "markdown",
   "metadata": {},
   "source": [
    "Time to spin up our API. "
   ]
  },
  {
   "cell_type": "code",
   "execution_count": null,
   "metadata": {
    "collapsed": false
   },
   "outputs": [],
   "source": [
    "if __name__ == '__main__':\n",
    "    app.run()"
   ]
  },
  {
   "cell_type": "markdown",
   "metadata": {},
   "source": [
    "Because of the code I inserted above, I can now simply shutdown the server by going to http://localhost:5000/shutdown"
   ]
  },
  {
   "cell_type": "markdown",
   "metadata": {},
   "source": [
    "## Step 2: Todos\n",
    "That was fun but way too easy. Lets make things more complex. \n",
    "\n",
    "We will create our own simple TODO manager, which supports the following things\n",
    "* Get a list of todos\n",
    "* Get a particular todo\n",
    "* Add a todo\n",
    "* Delete a todo\n",
    "\n",
    "\n",
    "Lets start with creating a bunch of sample todos"
   ]
  },
  {
   "cell_type": "code",
   "execution_count": null,
   "metadata": {
    "collapsed": true
   },
   "outputs": [],
   "source": [
    "TODOS = {\n",
    "    'todo1': {'task': 'Teach Distributed Systems'},\n",
    "    'todo2': {'task': 'Think of a good joke to tell during Distributed Systems'},\n",
    "    'todo3': {'task': 'It\\'s friday! Order fries and a Bicky Burger.'},\n",
    "}"
   ]
  },
  {
   "cell_type": "markdown",
   "metadata": {},
   "source": [
    "And a dummy proof method."
   ]
  },
  {
   "cell_type": "code",
   "execution_count": null,
   "metadata": {
    "collapsed": true
   },
   "outputs": [],
   "source": [
    "def abort_if_todo_doesnt_exist(todo_id):\n",
    "    if todo_id not in TODOS:\n",
    "        abort(404, message=\"Todo {} doesn't exist\".format(todo_id))\n"
   ]
  },
  {
   "cell_type": "markdown",
   "metadata": {},
   "source": [
    "If we want to do something interesting with our REST API we need to be able to parse arguments we get from our clients. While Flask provides easy access to request data (i.e. querystring or POST form encoded data), it’s still a pain to validate form data. Flask-RESTful has built-in support for request data validation using the library reqparse (which we already imported above).\n",
    "\n"
   ]
  },
  {
   "cell_type": "code",
   "execution_count": null,
   "metadata": {
    "collapsed": false
   },
   "outputs": [],
   "source": [
    "\n",
    "parser = reqparse.RequestParser()\n",
    "parser.add_argument('task')\n"
   ]
  },
  {
   "cell_type": "markdown",
   "metadata": {},
   "source": [
    "Here, task is going to be an argument which we can pass around to our REST API to either retrieve a todo or delete it. \n",
    "\n",
    "The next thing we want to do is support the todos endpoint. This endpoint will allow us to \n",
    "* GET a list of our pending todos (when we call an HTTP GET)\n",
    "* ADD a specific todo (when we call HTTP POST). In this case, we will add the todo ID ourselves.]\n",
    "\n",
    "Similar to our HelloWorld example, the TodoList class will define get and post methods to do all of that. \n",
    "\n",
    "The get method simply returns our object TODOS"
   ]
  },
  {
   "cell_type": "code",
   "execution_count": null,
   "metadata": {
    "collapsed": true
   },
   "outputs": [],
   "source": [
    "# TodoList\n",
    "# shows a list of all todos, and lets you POST to add new tasks\n",
    "class TodoList(Resource):\n",
    "    def get(self):\n",
    "        return TODOS\n",
    "\n",
    "    "
   ]
  },
  {
   "cell_type": "markdown",
   "metadata": {},
   "source": [
    "The post method will \n",
    "* Parse the arguments\n",
    "* Find the next todo ID\n",
    "* Add a todo to the array (based on the task parameter)"
   ]
  },
  {
   "cell_type": "code",
   "execution_count": null,
   "metadata": {
    "collapsed": true
   },
   "outputs": [],
   "source": [
    "def post(self):\n",
    "        args = parser.parse_args()\n",
    "        todo_id = int(max(TODOS.keys()).lstrip('todo')) + 1\n",
    "        todo_id = 'todo%i' % todo_id\n",
    "        TODOS[todo_id] = {'task': args['task']}\n",
    "        return TODOS[todo_id], 201\n"
   ]
  },
  {
   "cell_type": "markdown",
   "metadata": {},
   "source": [
    "The second endpoint is the ability to\n",
    "* Retrieve a specific todo (HTTP GET)\n",
    "* Delete a todo (HTTP DELETE)\n",
    "* Add a todo (HTTP PUT)\n",
    "\n",
    "Same story here: just add the methods. Note that in this case we use the todo_id as an argument in the URL. The actual task name is still encoded as a parameter"
   ]
  },
  {
   "cell_type": "code",
   "execution_count": null,
   "metadata": {
    "collapsed": true
   },
   "outputs": [],
   "source": [
    "# Todo\n",
    "# shows a single todo item and lets you delete a todo item\n",
    "class Todo(Resource):\n",
    "    def get(self, todo_id):\n",
    "        abort_if_todo_doesnt_exist(todo_id)\n",
    "        return TODOS[todo_id]\n",
    "\n",
    "    def delete(self, todo_id):\n",
    "        abort_if_todo_doesnt_exist(todo_id)\n",
    "        del TODOS[todo_id]\n",
    "        return '', 204\n",
    "\n",
    "    def put(self, todo_id):\n",
    "        args = parser.parse_args()\n",
    "        task = {'task': args['task']}\n",
    "        TODOS[todo_id] = task\n",
    "        return task, 201\n",
    "\n",
    "\n",
    "\n"
   ]
  },
  {
   "cell_type": "markdown",
   "metadata": {},
   "source": [
    "The last step is then to add our resources. Note that we define the todo_id here"
   ]
  },
  {
   "cell_type": "code",
   "execution_count": null,
   "metadata": {
    "collapsed": true
   },
   "outputs": [],
   "source": [
    "##\n",
    "## Actually setup the Api resource routing here\n",
    "##\n",
    "api.add_resource(TodoList, '/todos')\n",
    "api.add_resource(Todo, '/todos/<todo_id>')"
   ]
  },
  {
   "cell_type": "markdown",
   "metadata": {},
   "source": [
    "And just run the server again. "
   ]
  },
  {
   "cell_type": "code",
   "execution_count": null,
   "metadata": {
    "collapsed": false
   },
   "outputs": [],
   "source": [
    "if __name__ == '__main__':\n",
    "    app.run()"
   ]
  }
 ],
 "metadata": {
  "kernelspec": {
   "display_name": "Python 2",
   "language": "python",
   "name": "python2"
  },
  "language_info": {
   "codemirror_mode": {
    "name": "ipython",
    "version": 2
   },
   "file_extension": ".py",
   "mimetype": "text/x-python",
   "name": "python",
   "nbconvert_exporter": "python",
   "pygments_lexer": "ipython2",
   "version": "2.7.10"
  }
 },
 "nbformat": 4,
 "nbformat_minor": 2
}
